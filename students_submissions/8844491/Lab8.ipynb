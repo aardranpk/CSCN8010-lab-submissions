{
 "cells": [
  {
   "cell_type": "markdown",
   "metadata": {},
   "source": [
    "## <center><b>Lab 8 - A Dot product and a Matrix Multiplication in PyTorch and Tensorflow</b></center>\n",
    "<center>Done by: Aardran Premakumar <br> 8844491</center>"
   ]
  },
  {
   "cell_type": "markdown",
   "metadata": {},
   "source": [
    "## <b> PyTorch </b>"
   ]
  },
  {
   "cell_type": "markdown",
   "metadata": {},
   "source": [
    "#### Dot Product"
   ]
  },
  {
   "cell_type": "code",
   "execution_count": 1,
   "metadata": {},
   "outputs": [
    {
     "name": "stdout",
     "output_type": "stream",
     "text": [
      " First vector:  [1.0, 2.0, 3.0]\n",
      "\n",
      " Second vector:  [4.0, 5.0, 6.0]\n",
      "\n",
      " The dot product of the two vectors is:  tensor(32.)\n"
     ]
    }
   ],
   "source": [
    "import torch\n",
    "\n",
    "first_vector = []\n",
    "second_vector = []\n",
    "\n",
    "n = int(input(\"Enter the size of the vector: \"))\n",
    "\n",
    "for i in range(n):\n",
    "    first_vector.append(float(input(\"Enter the element {} of the first vector: \" .format(i + 1))))\n",
    "\n",
    "print(\" First vector: \", first_vector)\n",
    "\n",
    "for i in range(n):\n",
    "    second_vector.append(float(input(\"Enter the element {} of the second vector: \" .format(i + 1))))\n",
    "\n",
    "print(\"\\n Second vector: \", second_vector)\n",
    "\n",
    "first_vector = torch.tensor(first_vector)\n",
    "second_vector = torch.tensor(second_vector)\n",
    "\n",
    "dot_product = torch.dot(first_vector, second_vector)\n",
    "print(\"\\n The dot product of the two vectors is: \", dot_product)"
   ]
  },
  {
   "cell_type": "markdown",
   "metadata": {},
   "source": [
    "### Matrix Multiplication"
   ]
  },
  {
   "cell_type": "code",
   "execution_count": 2,
   "metadata": {},
   "outputs": [
    {
     "name": "stdout",
     "output_type": "stream",
     "text": [
      "First matrix: \n",
      " [[1.0, 2.0], [3.0, 4.0]]\n",
      "\n",
      " Second matrix: \n",
      " [[5.0, 6.0], [7.0, 8.0]]\n",
      "\n",
      " The product of the two matrices is:\n",
      "  tensor([[19., 22.],\n",
      "        [43., 50.]])\n"
     ]
    }
   ],
   "source": [
    "first_matrix = []\n",
    "second_matrix = []\n",
    "\n",
    "row1 = int(input(\"Enter the row size of the first matrix: \"))\n",
    "col1 = int(input(\"Enter the column size of the first matrix: \"))\n",
    "row2 = int(input(\"Enter the row size of the second matrix: \"))\n",
    "col2 = int(input(\"Enter the column size of the second matrix: \"))\n",
    "\n",
    "for i in range(row1):\n",
    "    elements = []\n",
    "    for j in range(col1):\n",
    "        elements.append(float(input(\"Enter the element at ({},{}) of the first matrix: \" .format(i,j))))\n",
    "    first_matrix.append(elements)\n",
    "\n",
    "print(\"First matrix: \\n\", first_matrix)\n",
    "\n",
    "for i in range(row2):\n",
    "    elements = []\n",
    "    for j in range(col2):\n",
    "        elements.append(float(input(\"Enter the element at ({},{}) of the second matrix: \" .format(i,j))))\n",
    "    second_matrix.append(elements)\n",
    "    \n",
    "print(\"\\n Second matrix: \\n\", second_matrix)\n",
    "\n",
    "if col1 != row2:\n",
    "    print(\"The matrix multiplication is not possible.\")\n",
    "else:\n",
    "    first_matrix = torch.tensor(first_matrix)\n",
    "    second_matrix = torch.tensor(second_matrix)\n",
    "    matrix_product = torch.matmul(first_matrix, second_matrix)\n",
    "    \n",
    "print(\"\\n The product of the two matrices is:\\n \", matrix_product)"
   ]
  },
  {
   "cell_type": "markdown",
   "metadata": {},
   "source": [
    "## <b> Tensorflow </b>\n",
    "\n",
    "`Note: Change the kernel to tensorflow`\n",
    "\n",
    "### Dot Product"
   ]
  },
  {
   "cell_type": "code",
   "execution_count": 1,
   "metadata": {},
   "outputs": [
    {
     "name": "stdout",
     "output_type": "stream",
     "text": [
      " First vector:  [1.0, 2.0, 3.0]\n",
      "\n",
      " Second vector:  [4.0, 5.0, 6.0]\n",
      "\n",
      " The dot product of the two vectors is: \n",
      " tf.Tensor(32.0, shape=(), dtype=float32)\n"
     ]
    }
   ],
   "source": [
    "import tensorflow as tf\n",
    "\n",
    "vector1 = []\n",
    "vector2 = []\n",
    "\n",
    "size = int(input(\"Enter the size of the vector: \"))\n",
    "\n",
    "for i in range(size):\n",
    "    vector1.append(float(input(\"Enter the element {} of the first vector: \" .format(i + 1))))\n",
    "\n",
    "print(\" First vector: \", vector1)\n",
    "\n",
    "for i in range(size):\n",
    "    vector2.append(float(input(\"Enter the element {} of the second vector: \" .format(i + 1))))\n",
    "\n",
    "print(\"\\n Second vector: \", vector2)\n",
    "\n",
    "vector1 = tf.constant(vector1)\n",
    "vector2 = tf.constant(vector2)\n",
    "\n",
    "dot_product = tf.tensordot(vector1, vector2, axes=1)\n",
    "print(\"\\n The dot product of the two vectors is: \\n\", dot_product)"
   ]
  },
  {
   "cell_type": "markdown",
   "metadata": {},
   "source": [
    "### Matrix Multiplication"
   ]
  },
  {
   "cell_type": "code",
   "execution_count": 2,
   "metadata": {},
   "outputs": [
    {
     "name": "stdout",
     "output_type": "stream",
     "text": [
      "First Matrix: \n",
      " [[1.0, 2.0], [3.0, 4.0]]\n",
      "\n",
      " Second Matrix: \n",
      " [[5.0, 6.0], [7.0, 8.0]]\n",
      "\n",
      " The product of the two matrices is:\n",
      "  tf.Tensor(\n",
      "[[19. 22.]\n",
      " [43. 50.]], shape=(2, 2), dtype=float32)\n"
     ]
    }
   ],
   "source": [
    "matrix1 = []\n",
    "matrix2 = []\n",
    "\n",
    "row1 = int(input(\"Enter the row size of the first matrix: \"))\n",
    "col1 = int(input(\"Enter the column size of the first matrix: \"))\n",
    "row2 = int(input(\"Enter the row size of the second matrix: \"))\n",
    "col2 = int(input(\"Enter the column size of the second matrix: \"))\n",
    "\n",
    "for i in range(row1):\n",
    "    r = []\n",
    "    for j in range(col1):\n",
    "        r.append(float(input(\"Enter the element at ({},{}) of the first matrix: \" .format(i,j))))\n",
    "    matrix1.append(r)\n",
    "\n",
    "print(\"First Matrix: \\n\", matrix1)\n",
    "\n",
    "for i in range(row2):\n",
    "    r = []\n",
    "    for j in range(col2):\n",
    "        r.append(float(input(\"Enter the element at ({},{}) of the second matrix: \" .format(i,j))))\n",
    "    matrix2.append(r)\n",
    "\n",
    "print(\"\\n Second Matrix: \\n\", matrix2)\n",
    "\n",
    "if col1 != row2:\n",
    "    print(\"The matrix multiplication is not possible.\")\n",
    "else:\n",
    "    matrix1 = tf.constant(matrix1)\n",
    "    matrix2 = tf.constant(matrix2)\n",
    "    matrix_product = tf.matmul(matrix1, matrix2)\n",
    "    \n",
    "\n",
    "print(\"\\n The product of the two matrices is:\\n \", matrix_product)"
   ]
  }
 ],
 "metadata": {
  "kernelspec": {
   "display_name": "tensorflow_cpu",
   "language": "python",
   "name": "tensorflow_cpu"
  },
  "language_info": {
   "codemirror_mode": {
    "name": "ipython",
    "version": 3
   },
   "file_extension": ".py",
   "mimetype": "text/x-python",
   "name": "python",
   "nbconvert_exporter": "python",
   "pygments_lexer": "ipython3",
   "version": "3.10.5"
  }
 },
 "nbformat": 4,
 "nbformat_minor": 2
}
